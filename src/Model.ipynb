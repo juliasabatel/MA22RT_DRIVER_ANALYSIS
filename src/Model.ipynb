{
 "cells": [
  {
   "cell_type": "code",
   "execution_count": 2,
   "id": "7f5e3df9",
   "metadata": {},
   "outputs": [],
   "source": [
    "import pandas as pd\n",
    "import numpy as np\n",
    "import seaborn as sns\n",
    "import matplotlib\n",
    "import matplotlib.pyplot as plt\n",
    "import matplotlib as mpl\n",
    "from matplotlib.collections import LineCollection\n",
    "from matplotlib import cm\n",
    "from scipy import stats as st\n",
    "\n",
    "import warnings\n",
    "warnings.filterwarnings('ignore')  \n",
    "\n",
    "pd.set_option('display.max_columns', None)\n",
    "import pylab as plt\n",
    "# import matplotlib.pyplot as plt\n",
    "\n",
    "\n",
    "\n",
    "import seaborn as sns"
   ]
  },
  {
   "cell_type": "code",
   "execution_count": 5,
   "id": "262cc24c",
   "metadata": {},
   "outputs": [],
   "source": [
    "\n",
    "\n",
    "from sklearn.linear_model import LogisticRegression            # logistic regression model            \n",
    "from sklearn.preprocessing import StandardScaler               # standarized\n",
    "from sklearn.preprocessing import LabelEncoder               \n",
    "\n",
    "from sklearn.model_selection import train_test_split as tts "
   ]
  },
  {
   "cell_type": "code",
   "execution_count": 6,
   "id": "9b3b3d39",
   "metadata": {},
   "outputs": [],
   "source": [
    "AC_LAP1 = pd.read_csv('../../../Desktop/MA22RT_PROJECT/CLEAN_DATA_MA22RT/AC_LAP1.csv', encoding='latin1')\n",
    "AC_LAP2 = pd.read_csv('../../../Desktop/MA22RT_PROJECT/CLEAN_DATA_MA22RT/AC_LAP2.csv', encoding='latin1')\n",
    "AC_LAP3 = pd.read_csv('../../../Desktop/MA22RT_PROJECT/CLEAN_DATA_MA22RT/AC_LAP3.csv', encoding='latin1')\n",
    "AC_LAP4 = pd.read_csv('../../../Desktop/MA22RT_PROJECT/CLEAN_DATA_MA22RT/AC_LAP4.csv', encoding='latin1')\n",
    "AC_LAP5 = pd.read_csv('../../../Desktop/MA22RT_PROJECT/CLEAN_DATA_MA22RT/AC_LAP5.csv', encoding='latin1')\n",
    "AC_LAP6 = pd.read_csv('../../../Desktop/MA22RT_PROJECT/CLEAN_DATA_MA22RT/AC_LAP6.csv', encoding='latin1')\n",
    "AC_LAP7 = pd.read_csv('../../../Desktop/MA22RT_PROJECT/CLEAN_DATA_MA22RT/AC_LAP7.csv', encoding='latin1')\n",
    "AC_LAP8 = pd.read_csv('../../../Desktop/MA22RT_PROJECT/CLEAN_DATA_MA22RT/AC_LAP8.csv', encoding='latin1')\n",
    "DC_LAP1 = pd.read_csv('../../../Desktop/MA22RT_PROJECT/CLEAN_DATA_MA22RT/DC_LAP1.csv', encoding='latin1')\n",
    "DC_LAP2 = pd.read_csv('../../../Desktop/MA22RT_PROJECT/CLEAN_DATA_MA22RT/DC_LAP2.csv', encoding='latin1')\n",
    "DC_LAP3 = pd.read_csv('../../../Desktop/MA22RT_PROJECT/CLEAN_DATA_MA22RT/DC_LAP3.csv', encoding='latin1')\n",
    "DC_LAP4 = pd.read_csv('../../../Desktop/MA22RT_PROJECT/CLEAN_DATA_MA22RT/DC_LAP4.csv', encoding='latin1')\n",
    "DC_LAP5 = pd.read_csv('../../../Desktop/MA22RT_PROJECT/CLEAN_DATA_MA22RT/DC_LAP5.csv', encoding='latin1')\n",
    "DC_LAP6 = pd.read_csv('../../../Desktop/MA22RT_PROJECT/CLEAN_DATA_MA22RT/DC_LAP6.csv', encoding='latin1')\n",
    "DC_LAP7 = pd.read_csv('../../../Desktop/MA22RT_PROJECT/CLEAN_DATA_MA22RT/DC_LAP7.csv', encoding='latin1')\n",
    "DC_LAP8 = pd.read_csv('../../../Desktop/MA22RT_PROJECT/CLEAN_DATA_MA22RT/DC_LAP8.csv', encoding='latin1')"
   ]
  },
  {
   "cell_type": "markdown",
   "id": "30a67345",
   "metadata": {},
   "source": [
    "# CREACIÓN E IMPORTACIÓN DEL MODELO"
   ]
  },
  {
   "cell_type": "code",
   "execution_count": null,
   "id": "67841ea6",
   "metadata": {},
   "outputs": [],
   "source": [
    "df=pd.read_csv('../data/churn.csv')\n",
    "\n",
    "df.head() "
   ]
  }
 ],
 "metadata": {
  "kernelspec": {
   "display_name": "Python 3 (ipykernel)",
   "language": "python",
   "name": "python3"
  },
  "language_info": {
   "codemirror_mode": {
    "name": "ipython",
    "version": 3
   },
   "file_extension": ".py",
   "mimetype": "text/x-python",
   "name": "python",
   "nbconvert_exporter": "python",
   "pygments_lexer": "ipython3",
   "version": "3.9.12"
  }
 },
 "nbformat": 4,
 "nbformat_minor": 5
}
