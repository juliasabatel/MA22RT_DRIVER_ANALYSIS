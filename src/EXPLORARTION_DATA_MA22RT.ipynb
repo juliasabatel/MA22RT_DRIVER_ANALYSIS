{
 "cells": [
  {
   "cell_type": "markdown",
   "id": "802a2b4b",
   "metadata": {},
   "source": [
    "# LIBRARIES IMPORTATION"
   ]
  },
  {
   "cell_type": "code",
   "execution_count": 3,
   "id": "ad6e94cb",
   "metadata": {},
   "outputs": [],
   "source": [
    "import pandas as pd\n",
    "import numpy as np\n",
    "import seaborn as sns\n",
    "import matplotlib\n",
    "import matplotlib.pyplot as plt\n",
    "import matplotlib as mpl\n",
    "from matplotlib.collections import LineCollection\n",
    "from matplotlib import cm\n",
    "\n",
    "import warnings\n",
    "warnings.filterwarnings('ignore')  \n",
    "\n",
    "pd.set_option('display.max_columns', None)"
   ]
  },
  {
   "cell_type": "markdown",
   "id": "4cf4b3bd",
   "metadata": {},
   "source": [
    "# DATA LOADING"
   ]
  },
  {
   "cell_type": "code",
   "execution_count": 5,
   "id": "5d6256c4",
   "metadata": {},
   "outputs": [],
   "source": [
    "AC_RACE = pd.read_csv('../../../Desktop/MA22RT_PROJECT/CLEAN_DATA_MA22RT/AC_RACE.csv', encoding='latin1')"
   ]
  },
  {
   "cell_type": "code",
   "execution_count": 6,
   "id": "813f1ed6",
   "metadata": {},
   "outputs": [],
   "source": [
    "DC_RACE = pd.read_csv('../../../Desktop/MA22RT_PROJECT/CLEAN_DATA_MA22RT/DC_RACE.csv', encoding='latin1')"
   ]
  },
  {
   "cell_type": "code",
   "execution_count": 7,
   "id": "94eac1c5",
   "metadata": {},
   "outputs": [],
   "source": [
    "AC_LAP1 = pd.read_csv('../../../Desktop/MA22RT_PROJECT/CLEAN_DATA_MA22RT/AC_LAP1.csv', encoding='latin1')"
   ]
  },
  {
   "cell_type": "code",
   "execution_count": 8,
   "id": "b0b6afea",
   "metadata": {},
   "outputs": [],
   "source": [
    "AC_LAP2 = pd.read_csv('../../../Desktop/MA22RT_PROJECT/CLEAN_DATA_MA22RT/AC_LAP2.csv', encoding='latin1')"
   ]
  },
  {
   "cell_type": "code",
   "execution_count": 9,
   "id": "b52d200d",
   "metadata": {},
   "outputs": [],
   "source": [
    "AC_LAP3 = pd.read_csv('../../../Desktop/MA22RT_PROJECT/CLEAN_DATA_MA22RT/AC_LAP3.csv', encoding='latin1')"
   ]
  },
  {
   "cell_type": "code",
   "execution_count": 41,
   "id": "5ed74c6d",
   "metadata": {},
   "outputs": [],
   "source": [
    "AC_LAP4 = pd.read_csv('../../../Desktop/MA22RT_PROJECT/CLEAN_DATA_MA22RT/AC_LAP4.csv', encoding='latin1')"
   ]
  },
  {
   "cell_type": "code",
   "execution_count": 11,
   "id": "dafb65a3",
   "metadata": {},
   "outputs": [],
   "source": [
    "AC_LAP5 = pd.read_csv('../../../Desktop/MA22RT_PROJECT/CLEAN_DATA_MA22RT/AC_LAP5.csv', encoding='latin1')"
   ]
  },
  {
   "cell_type": "code",
   "execution_count": 29,
   "id": "70d35540",
   "metadata": {},
   "outputs": [],
   "source": [
    "AC_LAP6 = pd.read_csv('../../../Desktop/MA22RT_PROJECT/CLEAN_DATA_MA22RT/AC_LAP6.csv', encoding='latin1')"
   ]
  },
  {
   "cell_type": "code",
   "execution_count": 12,
   "id": "1b58f905",
   "metadata": {},
   "outputs": [],
   "source": [
    "AC_LAP7 = pd.read_csv('../../../Desktop/MA22RT_PROJECT/CLEAN_DATA_MA22RT/AC_LAP7.csv', encoding='latin1')"
   ]
  },
  {
   "cell_type": "code",
   "execution_count": 13,
   "id": "6168f222",
   "metadata": {},
   "outputs": [],
   "source": [
    "AC_LAP8 = pd.read_csv('../../../Desktop/MA22RT_PROJECT/CLEAN_DATA_MA22RT/AC_LAP8.csv', encoding='latin1')"
   ]
  },
  {
   "cell_type": "code",
   "execution_count": 14,
   "id": "69f7810a",
   "metadata": {},
   "outputs": [],
   "source": [
    "DC_LAP1 = pd.read_csv('../../../Desktop/MA22RT_PROJECT/CLEAN_DATA_MA22RT/DC_LAP1.csv', encoding='latin1')"
   ]
  },
  {
   "cell_type": "code",
   "execution_count": 15,
   "id": "6dba1402",
   "metadata": {},
   "outputs": [],
   "source": [
    "DC_LAP2 = pd.read_csv('../../../Desktop/MA22RT_PROJECT/CLEAN_DATA_MA22RT/DC_LAP2.csv', encoding='latin1')"
   ]
  },
  {
   "cell_type": "code",
   "execution_count": 16,
   "id": "04a8a0e1",
   "metadata": {},
   "outputs": [],
   "source": [
    "DC_LAP3 = pd.read_csv('../../../Desktop/MA22RT_PROJECT/CLEAN_DATA_MA22RT/DC_LAP3.csv', encoding='latin1')"
   ]
  },
  {
   "cell_type": "code",
   "execution_count": 43,
   "id": "d3eca5ae",
   "metadata": {},
   "outputs": [],
   "source": [
    "DC_LAP4 = pd.read_csv('../../../Desktop/MA22RT_PROJECT/CLEAN_DATA_MA22RT/DC_LAP4.csv', encoding='latin1')"
   ]
  },
  {
   "cell_type": "code",
   "execution_count": 17,
   "id": "bbc8f1b5",
   "metadata": {},
   "outputs": [],
   "source": [
    "DC_LAP5 = pd.read_csv('../../../Desktop/MA22RT_PROJECT/CLEAN_DATA_MA22RT/DC_LAP5.csv', encoding='latin1')"
   ]
  },
  {
   "cell_type": "code",
   "execution_count": 18,
   "id": "e3864f04",
   "metadata": {},
   "outputs": [],
   "source": [
    "DC_LAP6 = pd.read_csv('../../../Desktop/MA22RT_PROJECT/CLEAN_DATA_MA22RT/DC_LAP6.csv', encoding='latin1')"
   ]
  },
  {
   "cell_type": "code",
   "execution_count": 19,
   "id": "56da12e1",
   "metadata": {},
   "outputs": [],
   "source": [
    "DC_LAP7 = pd.read_csv('../../../Desktop/MA22RT_PROJECT/CLEAN_DATA_MA22RT/DC_LAP7.csv', encoding='latin1')"
   ]
  },
  {
   "cell_type": "code",
   "execution_count": 20,
   "id": "e56cabc2",
   "metadata": {},
   "outputs": [],
   "source": [
    "DC_LAP8 = pd.read_csv('../../../Desktop/MA22RT_PROJECT/CLEAN_DATA_MA22RT/DC_LAP8.csv', encoding='latin1')"
   ]
  },
  {
   "cell_type": "markdown",
   "id": "226dbf7c",
   "metadata": {},
   "source": [
    "# DATA EXPLORATION"
   ]
  },
  {
   "cell_type": "code",
   "execution_count": 22,
   "id": "78e9774d",
   "metadata": {},
   "outputs": [],
   "source": [
    "# Vuelta rápida de cada piloto con los valores convertidos a float"
   ]
  },
  {
   "cell_type": "markdown",
   "id": "30ff3a81",
   "metadata": {},
   "source": [
    "# SPEED DRIVER A"
   ]
  },
  {
   "cell_type": "code",
   "execution_count": 23,
   "id": "809c1c90",
   "metadata": {},
   "outputs": [
    {
     "data": {
      "text/plain": [
       "51.41360660815696"
      ]
     },
     "execution_count": 23,
     "metadata": {},
     "output_type": "execute_result"
    }
   ],
   "source": [
    "#Medias de velocidad en cada vuelta\n",
    "#DRIVER A\n",
    "\n",
    "AC_LAP1.GPS_Speed.mean()"
   ]
  },
  {
   "cell_type": "code",
   "execution_count": 24,
   "id": "72b90212",
   "metadata": {},
   "outputs": [
    {
     "data": {
      "text/plain": [
       "53.51814002145921"
      ]
     },
     "execution_count": 24,
     "metadata": {},
     "output_type": "execute_result"
    }
   ],
   "source": [
    "AC_LAP2.GPS_Speed.mean()"
   ]
  },
  {
   "cell_type": "code",
   "execution_count": 25,
   "id": "a2542998",
   "metadata": {},
   "outputs": [
    {
     "data": {
      "text/plain": [
       "54.36628524768649"
      ]
     },
     "execution_count": 25,
     "metadata": {},
     "output_type": "execute_result"
    }
   ],
   "source": [
    "AC_LAP3.GPS_Speed.mean()"
   ]
  },
  {
   "cell_type": "code",
   "execution_count": 26,
   "id": "bc4954cf",
   "metadata": {},
   "outputs": [
    {
     "data": {
      "text/plain": [
       "50.4368458038423"
      ]
     },
     "execution_count": 26,
     "metadata": {},
     "output_type": "execute_result"
    }
   ],
   "source": [
    "AC_LAP4.GPS_Speed.mean()"
   ]
  },
  {
   "cell_type": "code",
   "execution_count": 27,
   "id": "3ef3e743",
   "metadata": {},
   "outputs": [
    {
     "data": {
      "text/plain": [
       "56.26068361581923"
      ]
     },
     "execution_count": 27,
     "metadata": {},
     "output_type": "execute_result"
    }
   ],
   "source": [
    "AC_LAP5.GPS_Speed.mean()"
   ]
  },
  {
   "cell_type": "code",
   "execution_count": 30,
   "id": "2c3c68c7",
   "metadata": {},
   "outputs": [
    {
     "data": {
      "text/plain": [
       "55.15165005537092"
      ]
     },
     "execution_count": 30,
     "metadata": {},
     "output_type": "execute_result"
    }
   ],
   "source": [
    "AC_LAP6.GPS_Speed.mean()"
   ]
  },
  {
   "cell_type": "code",
   "execution_count": 31,
   "id": "429ab3a5",
   "metadata": {},
   "outputs": [
    {
     "data": {
      "text/plain": [
       "55.817476163768966"
      ]
     },
     "execution_count": 31,
     "metadata": {},
     "output_type": "execute_result"
    }
   ],
   "source": [
    "AC_LAP7.GPS_Speed.mean()"
   ]
  },
  {
   "cell_type": "code",
   "execution_count": 32,
   "id": "f51e1233",
   "metadata": {},
   "outputs": [
    {
     "data": {
      "text/plain": [
       "53.97221656740669"
      ]
     },
     "execution_count": 32,
     "metadata": {},
     "output_type": "execute_result"
    }
   ],
   "source": [
    "AC_LAP8.GPS_Speed.mean()"
   ]
  },
  {
   "cell_type": "code",
   "execution_count": 33,
   "id": "90101f70",
   "metadata": {},
   "outputs": [
    {
     "data": {
      "text/plain": [
       "53.7969642098909"
      ]
     },
     "execution_count": 33,
     "metadata": {},
     "output_type": "execute_result"
    }
   ],
   "source": [
    "# media de velocidad total para driver A\n",
    "\n",
    "AC_RACE.GPS_Speed.mean()"
   ]
  },
  {
   "cell_type": "markdown",
   "id": "4af7590f",
   "metadata": {},
   "source": [
    "# SPEED DRIVER B"
   ]
  },
  {
   "cell_type": "code",
   "execution_count": 35,
   "id": "70f37ead",
   "metadata": {},
   "outputs": [
    {
     "data": {
      "text/plain": [
       "51.46095702910331"
      ]
     },
     "execution_count": 35,
     "metadata": {},
     "output_type": "execute_result"
    }
   ],
   "source": [
    "#media velocidad total para driver B\n",
    "DC_RACE.GPS_Speed.mean() #no tiene sentido"
   ]
  },
  {
   "cell_type": "code",
   "execution_count": 37,
   "id": "27708150",
   "metadata": {},
   "outputs": [
    {
     "data": {
      "text/plain": [
       "53.38383627608346"
      ]
     },
     "execution_count": 37,
     "metadata": {},
     "output_type": "execute_result"
    }
   ],
   "source": [
    "DC_LAP1.GPS_Speed.mean()"
   ]
  },
  {
   "cell_type": "code",
   "execution_count": 38,
   "id": "d80baf6c",
   "metadata": {},
   "outputs": [
    {
     "data": {
      "text/plain": [
       "55.14320674405746"
      ]
     },
     "execution_count": 38,
     "metadata": {},
     "output_type": "execute_result"
    }
   ],
   "source": [
    "DC_LAP2.GPS_Speed.mean()"
   ]
  },
  {
   "cell_type": "code",
   "execution_count": 39,
   "id": "0a899289",
   "metadata": {},
   "outputs": [
    {
     "data": {
      "text/plain": [
       "57.36532968929807"
      ]
     },
     "execution_count": 39,
     "metadata": {},
     "output_type": "execute_result"
    }
   ],
   "source": [
    "DC_LAP3.GPS_Speed.mean()"
   ]
  },
  {
   "cell_type": "code",
   "execution_count": 44,
   "id": "7cb87a5e",
   "metadata": {},
   "outputs": [
    {
     "data": {
      "text/plain": [
       "57.66869595375731"
      ]
     },
     "execution_count": 44,
     "metadata": {},
     "output_type": "execute_result"
    }
   ],
   "source": [
    "DC_LAP4.GPS_Speed.mean()"
   ]
  },
  {
   "cell_type": "code",
   "execution_count": 45,
   "id": "6332994f",
   "metadata": {},
   "outputs": [
    {
     "data": {
      "text/plain": [
       "57.735769809138226"
      ]
     },
     "execution_count": 45,
     "metadata": {},
     "output_type": "execute_result"
    }
   ],
   "source": [
    "DC_LAP5.GPS_Speed.mean()"
   ]
  },
  {
   "cell_type": "code",
   "execution_count": 46,
   "id": "f1bac9c8",
   "metadata": {},
   "outputs": [
    {
     "data": {
      "text/plain": [
       "56.40750849377124"
      ]
     },
     "execution_count": 46,
     "metadata": {},
     "output_type": "execute_result"
    }
   ],
   "source": [
    "DC_LAP6.GPS_Speed.mean()"
   ]
  },
  {
   "cell_type": "code",
   "execution_count": 47,
   "id": "dbfd546b",
   "metadata": {},
   "outputs": [
    {
     "data": {
      "text/plain": [
       "52.279126442812334"
      ]
     },
     "execution_count": 47,
     "metadata": {},
     "output_type": "execute_result"
    }
   ],
   "source": [
    "DC_LAP7.GPS_Speed.mean()"
   ]
  },
  {
   "cell_type": "code",
   "execution_count": 48,
   "id": "d8319128",
   "metadata": {},
   "outputs": [
    {
     "data": {
      "text/plain": [
       "58.75662779740874"
      ]
     },
     "execution_count": 48,
     "metadata": {},
     "output_type": "execute_result"
    }
   ],
   "source": [
    "DC_LAP8.GPS_Speed.mean() #vuelta rápida"
   ]
  },
  {
   "cell_type": "code",
   "execution_count": 58,
   "id": "bfe9ce28",
   "metadata": {},
   "outputs": [
    {
     "data": {
      "text/plain": [
       "430.93690408351074"
      ]
     },
     "execution_count": 58,
     "metadata": {},
     "output_type": "execute_result"
    }
   ],
   "source": [
    "#calculo velocidad media a\n",
    "51.41360660815696+53.51814002145921+54.36628524768649+50.4368458038423+56.26068361581923+55.15165005537092+55.817476163768966+53.97221656740669\n"
   ]
  },
  {
   "cell_type": "code",
   "execution_count": 59,
   "id": "b9610f4a",
   "metadata": {},
   "outputs": [
    {
     "data": {
      "text/plain": [
       "53.86711301043884"
      ]
     },
     "execution_count": 59,
     "metadata": {},
     "output_type": "execute_result"
    }
   ],
   "source": [
    "430.93690408351074/8 #velocidad media del piloto a "
   ]
  },
  {
   "cell_type": "code",
   "execution_count": 60,
   "id": "7578105a",
   "metadata": {},
   "outputs": [
    {
     "data": {
      "text/plain": [
       "53.7969642098909"
      ]
     },
     "execution_count": 60,
     "metadata": {},
     "output_type": "execute_result"
    }
   ],
   "source": [
    "AC_RACE.GPS_Speed.mean()"
   ]
  },
  {
   "cell_type": "code",
   "execution_count": 61,
   "id": "632104e9",
   "metadata": {},
   "outputs": [
    {
     "data": {
      "text/plain": [
       "448.7401012063268"
      ]
     },
     "execution_count": 61,
     "metadata": {},
     "output_type": "execute_result"
    }
   ],
   "source": [
    "#media para D\n",
    "\n",
    "53.38383627608346+55.14320674405746+57.36532968929807+57.66869595375731+57.735769809138226+56.40750849377124+52.279126442812334+58.75662779740874\n"
   ]
  },
  {
   "cell_type": "code",
   "execution_count": 62,
   "id": "663b3285",
   "metadata": {},
   "outputs": [
    {
     "data": {
      "text/plain": [
       "56.09251265079085"
      ]
     },
     "execution_count": 62,
     "metadata": {},
     "output_type": "execute_result"
    }
   ],
   "source": [
    "448.7401012063268/8"
   ]
  },
  {
   "cell_type": "code",
   "execution_count": 63,
   "id": "d38539da",
   "metadata": {},
   "outputs": [
    {
     "data": {
      "text/plain": [
       "2.225399640352009"
      ]
     },
     "execution_count": 63,
     "metadata": {},
     "output_type": "execute_result"
    }
   ],
   "source": [
    "56.09251265079085-53.86711301043884\n",
    "#cuanto le saca de velocidad"
   ]
  },
  {
   "cell_type": "code",
   "execution_count": null,
   "id": "6c7780ff",
   "metadata": {},
   "outputs": [],
   "source": []
  }
 ],
 "metadata": {
  "kernelspec": {
   "display_name": "Python 3 (ipykernel)",
   "language": "python",
   "name": "python3"
  },
  "language_info": {
   "codemirror_mode": {
    "name": "ipython",
    "version": 3
   },
   "file_extension": ".py",
   "mimetype": "text/x-python",
   "name": "python",
   "nbconvert_exporter": "python",
   "pygments_lexer": "ipython3",
   "version": "3.9.12"
  }
 },
 "nbformat": 4,
 "nbformat_minor": 5
}
