{
 "cells": [
  {
   "cell_type": "markdown",
   "id": "c7c1b719",
   "metadata": {},
   "source": [
    "# LIBRARIES IMPORTATION"
   ]
  },
  {
   "cell_type": "code",
   "execution_count": 3,
   "id": "e8c4bdbc",
   "metadata": {},
   "outputs": [],
   "source": [
    "import pandas as pd\n",
    "import numpy as np\n",
    "import seaborn as sns\n",
    "import matplotlib\n",
    "import matplotlib.pyplot as plt\n",
    "import matplotlib as mpl\n",
    "from matplotlib.collections import LineCollection\n",
    "from matplotlib import cm\n",
    "\n",
    "import warnings\n",
    "warnings.filterwarnings('ignore')  \n",
    "\n",
    "pd.set_option('display.max_columns', None)"
   ]
  },
  {
   "cell_type": "markdown",
   "id": "568e11e1",
   "metadata": {},
   "source": [
    "# DATA LOADING"
   ]
  },
  {
   "cell_type": "code",
   "execution_count": 5,
   "id": "f8ecccf9",
   "metadata": {},
   "outputs": [],
   "source": [
    "AC_RACE = pd.read_csv('../../../Desktop/MA22RT_PROJECT/CLEAN_DATA_MA22RT/AC_RACE.csv', encoding='latin1')"
   ]
  },
  {
   "cell_type": "code",
   "execution_count": 6,
   "id": "2babcdd8",
   "metadata": {},
   "outputs": [],
   "source": [
    "DC_RACE = pd.read_csv('../../../Desktop/MA22RT_PROJECT/CLEAN_DATA_MA22RT/DC_RACE.csv', encoding='latin1')"
   ]
  },
  {
   "cell_type": "code",
   "execution_count": 7,
   "id": "32d4b3bf",
   "metadata": {},
   "outputs": [],
   "source": [
    "AC_LAP1 = pd.read_csv('../../../Desktop/MA22RT_PROJECT/CLEAN_DATA_MA22RT/AC_LAP1.csv', encoding='latin1')"
   ]
  },
  {
   "cell_type": "code",
   "execution_count": 8,
   "id": "204b1100",
   "metadata": {},
   "outputs": [],
   "source": [
    "AC_LAP2 = pd.read_csv('../../../Desktop/MA22RT_PROJECT/CLEAN_DATA_MA22RT/AC_LAP2.csv', encoding='latin1')"
   ]
  },
  {
   "cell_type": "code",
   "execution_count": 9,
   "id": "42a613bb",
   "metadata": {},
   "outputs": [],
   "source": [
    "AC_LAP3 = pd.read_csv('../../../Desktop/MA22RT_PROJECT/CLEAN_DATA_MA22RT/AC_LAP3.csv', encoding='latin1')"
   ]
  },
  {
   "cell_type": "code",
   "execution_count": 41,
   "id": "12e643da",
   "metadata": {},
   "outputs": [],
   "source": [
    "AC_LAP4 = pd.read_csv('../../../Desktop/MA22RT_PROJECT/CLEAN_DATA_MA22RT/AC_LAP4.csv', encoding='latin1')"
   ]
  },
  {
   "cell_type": "code",
   "execution_count": 11,
   "id": "db66b2d6",
   "metadata": {},
   "outputs": [],
   "source": [
    "AC_LAP5 = pd.read_csv('../../../Desktop/MA22RT_PROJECT/CLEAN_DATA_MA22RT/AC_LAP5.csv', encoding='latin1')"
   ]
  },
  {
   "cell_type": "code",
   "execution_count": 29,
   "id": "74767519",
   "metadata": {},
   "outputs": [],
   "source": [
    "AC_LAP6 = pd.read_csv('../../../Desktop/MA22RT_PROJECT/CLEAN_DATA_MA22RT/AC_LAP6.csv', encoding='latin1')"
   ]
  },
  {
   "cell_type": "code",
   "execution_count": 12,
   "id": "7837a85c",
   "metadata": {},
   "outputs": [],
   "source": [
    "AC_LAP7 = pd.read_csv('../../../Desktop/MA22RT_PROJECT/CLEAN_DATA_MA22RT/AC_LAP7.csv', encoding='latin1')"
   ]
  },
  {
   "cell_type": "code",
   "execution_count": 13,
   "id": "3740ffa4",
   "metadata": {},
   "outputs": [],
   "source": [
    "AC_LAP8 = pd.read_csv('../../../Desktop/MA22RT_PROJECT/CLEAN_DATA_MA22RT/AC_LAP8.csv', encoding='latin1')"
   ]
  },
  {
   "cell_type": "code",
   "execution_count": 14,
   "id": "b249c72c",
   "metadata": {},
   "outputs": [],
   "source": [
    "DC_LAP1 = pd.read_csv('../../../Desktop/MA22RT_PROJECT/CLEAN_DATA_MA22RT/DC_LAP1.csv', encoding='latin1')"
   ]
  },
  {
   "cell_type": "code",
   "execution_count": 15,
   "id": "ad3cb04a",
   "metadata": {},
   "outputs": [],
   "source": [
    "DC_LAP2 = pd.read_csv('../../../Desktop/MA22RT_PROJECT/CLEAN_DATA_MA22RT/DC_LAP2.csv', encoding='latin1')"
   ]
  },
  {
   "cell_type": "code",
   "execution_count": 16,
   "id": "33c1eb54",
   "metadata": {},
   "outputs": [],
   "source": [
    "DC_LAP3 = pd.read_csv('../../../Desktop/MA22RT_PROJECT/CLEAN_DATA_MA22RT/DC_LAP3.csv', encoding='latin1')"
   ]
  },
  {
   "cell_type": "code",
   "execution_count": 43,
   "id": "940ad117",
   "metadata": {},
   "outputs": [],
   "source": [
    "DC_LAP4 = pd.read_csv('../../../Desktop/MA22RT_PROJECT/CLEAN_DATA_MA22RT/DC_LAP4.csv', encoding='latin1')"
   ]
  },
  {
   "cell_type": "code",
   "execution_count": 17,
   "id": "f7534879",
   "metadata": {},
   "outputs": [],
   "source": [
    "DC_LAP5 = pd.read_csv('../../../Desktop/MA22RT_PROJECT/CLEAN_DATA_MA22RT/DC_LAP5.csv', encoding='latin1')"
   ]
  },
  {
   "cell_type": "code",
   "execution_count": 18,
   "id": "8035be91",
   "metadata": {},
   "outputs": [],
   "source": [
    "DC_LAP6 = pd.read_csv('../../../Desktop/MA22RT_PROJECT/CLEAN_DATA_MA22RT/DC_LAP6.csv', encoding='latin1')"
   ]
  },
  {
   "cell_type": "code",
   "execution_count": 19,
   "id": "bcbb2a04",
   "metadata": {},
   "outputs": [],
   "source": [
    "DC_LAP7 = pd.read_csv('../../../Desktop/MA22RT_PROJECT/CLEAN_DATA_MA22RT/DC_LAP7.csv', encoding='latin1')"
   ]
  },
  {
   "cell_type": "code",
   "execution_count": 20,
   "id": "1a1a5ca1",
   "metadata": {},
   "outputs": [],
   "source": [
    "DC_LAP8 = pd.read_csv('../../../Desktop/MA22RT_PROJECT/CLEAN_DATA_MA22RT/DC_LAP8.csv', encoding='latin1')"
   ]
  },
  {
   "cell_type": "markdown",
   "id": "e48691a7",
   "metadata": {},
   "source": [
    "# DATA EXPLORATION"
   ]
  },
  {
   "cell_type": "code",
   "execution_count": 22,
   "id": "186a68ae",
   "metadata": {},
   "outputs": [],
   "source": [
    "# Vuelta rápida de cada piloto con los valores convertidos a float"
   ]
  },
  {
   "cell_type": "markdown",
   "id": "609ad363",
   "metadata": {},
   "source": [
    "# SPEED DRIVER A"
   ]
  },
  {
   "cell_type": "code",
   "execution_count": 23,
   "id": "52e43574",
   "metadata": {},
   "outputs": [
    {
     "data": {
      "text/plain": [
       "51.41360660815696"
      ]
     },
     "execution_count": 23,
     "metadata": {},
     "output_type": "execute_result"
    }
   ],
   "source": [
    "#Medias de velocidad en cada vuelta\n",
    "#DRIVER A\n",
    "\n",
    "AC_LAP1.GPS_Speed.mean()"
   ]
  },
  {
   "cell_type": "code",
   "execution_count": 24,
   "id": "72298a61",
   "metadata": {},
   "outputs": [
    {
     "data": {
      "text/plain": [
       "53.51814002145921"
      ]
     },
     "execution_count": 24,
     "metadata": {},
     "output_type": "execute_result"
    }
   ],
   "source": [
    "AC_LAP2.GPS_Speed.mean()"
   ]
  },
  {
   "cell_type": "code",
   "execution_count": 25,
   "id": "bb4c44c3",
   "metadata": {},
   "outputs": [
    {
     "data": {
      "text/plain": [
       "54.36628524768649"
      ]
     },
     "execution_count": 25,
     "metadata": {},
     "output_type": "execute_result"
    }
   ],
   "source": [
    "AC_LAP3.GPS_Speed.mean()"
   ]
  },
  {
   "cell_type": "code",
   "execution_count": 26,
   "id": "749d864e",
   "metadata": {},
   "outputs": [
    {
     "data": {
      "text/plain": [
       "50.4368458038423"
      ]
     },
     "execution_count": 26,
     "metadata": {},
     "output_type": "execute_result"
    }
   ],
   "source": [
    "AC_LAP4.GPS_Speed.mean()"
   ]
  },
  {
   "cell_type": "code",
   "execution_count": 27,
   "id": "bfb15205",
   "metadata": {},
   "outputs": [
    {
     "data": {
      "text/plain": [
       "56.26068361581923"
      ]
     },
     "execution_count": 27,
     "metadata": {},
     "output_type": "execute_result"
    }
   ],
   "source": [
    "AC_LAP5.GPS_Speed.mean()"
   ]
  },
  {
   "cell_type": "code",
   "execution_count": 30,
   "id": "a1267bbf",
   "metadata": {},
   "outputs": [
    {
     "data": {
      "text/plain": [
       "55.15165005537092"
      ]
     },
     "execution_count": 30,
     "metadata": {},
     "output_type": "execute_result"
    }
   ],
   "source": [
    "AC_LAP6.GPS_Speed.mean()"
   ]
  },
  {
   "cell_type": "code",
   "execution_count": 31,
   "id": "8a065110",
   "metadata": {},
   "outputs": [
    {
     "data": {
      "text/plain": [
       "55.817476163768966"
      ]
     },
     "execution_count": 31,
     "metadata": {},
     "output_type": "execute_result"
    }
   ],
   "source": [
    "AC_LAP7.GPS_Speed.mean()"
   ]
  },
  {
   "cell_type": "code",
   "execution_count": 32,
   "id": "9b8d91be",
   "metadata": {},
   "outputs": [
    {
     "data": {
      "text/plain": [
       "53.97221656740669"
      ]
     },
     "execution_count": 32,
     "metadata": {},
     "output_type": "execute_result"
    }
   ],
   "source": [
    "AC_LAP8.GPS_Speed.mean()"
   ]
  },
  {
   "cell_type": "code",
   "execution_count": 33,
   "id": "40e62e76",
   "metadata": {},
   "outputs": [
    {
     "data": {
      "text/plain": [
       "53.7969642098909"
      ]
     },
     "execution_count": 33,
     "metadata": {},
     "output_type": "execute_result"
    }
   ],
   "source": [
    "# media de velocidad total para driver A\n",
    "#si hacemos la media al general\n",
    "\n",
    "AC_RACE.GPS_Speed.mean() "
   ]
  },
  {
   "cell_type": "code",
   "execution_count": 87,
   "id": "5044d14c",
   "metadata": {},
   "outputs": [],
   "source": [
    "#para ser mas precisos hacemos la media de cada vuelta y luego la media total"
   ]
  },
  {
   "cell_type": "code",
   "execution_count": 88,
   "id": "f2238645",
   "metadata": {},
   "outputs": [
    {
     "data": {
      "text/plain": [
       "430.93690408351074"
      ]
     },
     "execution_count": 88,
     "metadata": {},
     "output_type": "execute_result"
    }
   ],
   "source": [
    "#calculo velocidad media a\n",
    "51.41360660815696+53.51814002145921+54.36628524768649+50.4368458038423+56.26068361581923+55.15165005537092+55.817476163768966+53.97221656740669\n"
   ]
  },
  {
   "cell_type": "code",
   "execution_count": 89,
   "id": "11f9d975",
   "metadata": {},
   "outputs": [
    {
     "data": {
      "text/plain": [
       "53.86711301043884"
      ]
     },
     "execution_count": 89,
     "metadata": {},
     "output_type": "execute_result"
    }
   ],
   "source": [
    "430.93690408351074/8 #velocidad media del piloto a "
   ]
  },
  {
   "cell_type": "markdown",
   "id": "dbacc3be",
   "metadata": {},
   "source": [
    "# SPEED DRIVER D"
   ]
  },
  {
   "cell_type": "code",
   "execution_count": 35,
   "id": "8bb1d1c3",
   "metadata": {},
   "outputs": [
    {
     "data": {
      "text/plain": [
       "51.46095702910331"
      ]
     },
     "execution_count": 35,
     "metadata": {},
     "output_type": "execute_result"
    }
   ],
   "source": [
    "#media velocidad total para driver B\n",
    "DC_RACE.GPS_Speed.mean() #no tiene sentido"
   ]
  },
  {
   "cell_type": "code",
   "execution_count": null,
   "id": "ee0fb1f5",
   "metadata": {},
   "outputs": [],
   "source": [
    "#Para calcular la velocidad media + exacta\n",
    "#calculamos media de medias"
   ]
  },
  {
   "cell_type": "code",
   "execution_count": 37,
   "id": "c30ff5c0",
   "metadata": {},
   "outputs": [
    {
     "data": {
      "text/plain": [
       "53.38383627608346"
      ]
     },
     "execution_count": 37,
     "metadata": {},
     "output_type": "execute_result"
    }
   ],
   "source": [
    "DC_LAP1.GPS_Speed.mean()"
   ]
  },
  {
   "cell_type": "code",
   "execution_count": 38,
   "id": "ce7f0cb9",
   "metadata": {},
   "outputs": [
    {
     "data": {
      "text/plain": [
       "55.14320674405746"
      ]
     },
     "execution_count": 38,
     "metadata": {},
     "output_type": "execute_result"
    }
   ],
   "source": [
    "DC_LAP2.GPS_Speed.mean()"
   ]
  },
  {
   "cell_type": "code",
   "execution_count": 39,
   "id": "e3233387",
   "metadata": {},
   "outputs": [
    {
     "data": {
      "text/plain": [
       "57.36532968929807"
      ]
     },
     "execution_count": 39,
     "metadata": {},
     "output_type": "execute_result"
    }
   ],
   "source": [
    "DC_LAP3.GPS_Speed.mean()"
   ]
  },
  {
   "cell_type": "code",
   "execution_count": 44,
   "id": "fc7710c1",
   "metadata": {},
   "outputs": [
    {
     "data": {
      "text/plain": [
       "57.66869595375731"
      ]
     },
     "execution_count": 44,
     "metadata": {},
     "output_type": "execute_result"
    }
   ],
   "source": [
    "DC_LAP4.GPS_Speed.mean()"
   ]
  },
  {
   "cell_type": "code",
   "execution_count": 45,
   "id": "4da8a642",
   "metadata": {},
   "outputs": [
    {
     "data": {
      "text/plain": [
       "57.735769809138226"
      ]
     },
     "execution_count": 45,
     "metadata": {},
     "output_type": "execute_result"
    }
   ],
   "source": [
    "DC_LAP5.GPS_Speed.mean()"
   ]
  },
  {
   "cell_type": "code",
   "execution_count": 46,
   "id": "4ad39009",
   "metadata": {},
   "outputs": [
    {
     "data": {
      "text/plain": [
       "56.40750849377124"
      ]
     },
     "execution_count": 46,
     "metadata": {},
     "output_type": "execute_result"
    }
   ],
   "source": [
    "DC_LAP6.GPS_Speed.mean()"
   ]
  },
  {
   "cell_type": "code",
   "execution_count": 47,
   "id": "65e8a361",
   "metadata": {},
   "outputs": [
    {
     "data": {
      "text/plain": [
       "52.279126442812334"
      ]
     },
     "execution_count": 47,
     "metadata": {},
     "output_type": "execute_result"
    }
   ],
   "source": [
    "DC_LAP7.GPS_Speed.mean()"
   ]
  },
  {
   "cell_type": "code",
   "execution_count": 48,
   "id": "816902af",
   "metadata": {},
   "outputs": [
    {
     "data": {
      "text/plain": [
       "58.75662779740874"
      ]
     },
     "execution_count": 48,
     "metadata": {},
     "output_type": "execute_result"
    }
   ],
   "source": [
    "DC_LAP8.GPS_Speed.mean() #vuelta rápida"
   ]
  },
  {
   "cell_type": "code",
   "execution_count": 61,
   "id": "db851935",
   "metadata": {},
   "outputs": [
    {
     "data": {
      "text/plain": [
       "448.7401012063268"
      ]
     },
     "execution_count": 61,
     "metadata": {},
     "output_type": "execute_result"
    }
   ],
   "source": [
    "#media para D\n",
    "\n",
    "53.38383627608346+55.14320674405746+57.36532968929807+57.66869595375731+57.735769809138226+56.40750849377124+52.279126442812334+58.75662779740874\n"
   ]
  },
  {
   "cell_type": "code",
   "execution_count": 62,
   "id": "9e5f406f",
   "metadata": {},
   "outputs": [
    {
     "data": {
      "text/plain": [
       "56.09251265079085"
      ]
     },
     "execution_count": 62,
     "metadata": {},
     "output_type": "execute_result"
    }
   ],
   "source": [
    "448.7401012063268/8 #velocidad media de piloto D"
   ]
  },
  {
   "cell_type": "markdown",
   "id": "cead02d9",
   "metadata": {},
   "source": [
    "# DIFERENCIA MEDIAS EN KM/H ENTRE PILOTOS"
   ]
  },
  {
   "cell_type": "code",
   "execution_count": 91,
   "id": "5b7557af",
   "metadata": {},
   "outputs": [
    {
     "data": {
      "text/plain": [
       "2.225399640352009"
      ]
     },
     "execution_count": 91,
     "metadata": {},
     "output_type": "execute_result"
    }
   ],
   "source": [
    "56.09251265079085-53.86711301043884\n",
    "#cuanto le saca de velocidad el piloto d al a"
   ]
  },
  {
   "cell_type": "markdown",
   "id": "704f989f",
   "metadata": {},
   "source": [
    "# MEDIANA EN VELOCIDAD A "
   ]
  },
  {
   "cell_type": "code",
   "execution_count": 95,
   "id": "f5c8bc59",
   "metadata": {},
   "outputs": [
    {
     "data": {
      "text/plain": [
       "49.281"
      ]
     },
     "execution_count": 95,
     "metadata": {},
     "output_type": "execute_result"
    }
   ],
   "source": [
    "#Para una mayor representatividad de los datos hacemos la mediana\n",
    "AC_LAP1.GPS_Speed.median()"
   ]
  },
  {
   "cell_type": "code",
   "execution_count": 96,
   "id": "8c7d0ddd",
   "metadata": {},
   "outputs": [
    {
     "data": {
      "text/plain": [
       "51.91"
      ]
     },
     "execution_count": 96,
     "metadata": {},
     "output_type": "execute_result"
    }
   ],
   "source": [
    "AC_LAP2.GPS_Speed.median()"
   ]
  },
  {
   "cell_type": "code",
   "execution_count": 97,
   "id": "bbb9e94d",
   "metadata": {},
   "outputs": [
    {
     "data": {
      "text/plain": [
       "52.88"
      ]
     },
     "execution_count": 97,
     "metadata": {},
     "output_type": "execute_result"
    }
   ],
   "source": [
    "AC_LAP3.GPS_Speed.median()"
   ]
  },
  {
   "cell_type": "code",
   "execution_count": 98,
   "id": "9903a60b",
   "metadata": {},
   "outputs": [
    {
     "data": {
      "text/plain": [
       "48.76"
      ]
     },
     "execution_count": 98,
     "metadata": {},
     "output_type": "execute_result"
    }
   ],
   "source": [
    "AC_LAP4.GPS_Speed.median()"
   ]
  },
  {
   "cell_type": "code",
   "execution_count": 99,
   "id": "2e43db6b",
   "metadata": {},
   "outputs": [
    {
     "data": {
      "text/plain": [
       "54.705"
      ]
     },
     "execution_count": 99,
     "metadata": {},
     "output_type": "execute_result"
    }
   ],
   "source": [
    "AC_LAP5.GPS_Speed.median() #Tiene sentido esta es la vuelta rápida"
   ]
  },
  {
   "cell_type": "code",
   "execution_count": 100,
   "id": "c73391d3",
   "metadata": {},
   "outputs": [
    {
     "data": {
      "text/plain": [
       "54.189"
      ]
     },
     "execution_count": 100,
     "metadata": {},
     "output_type": "execute_result"
    }
   ],
   "source": [
    "AC_LAP6.GPS_Speed.median()"
   ]
  },
  {
   "cell_type": "code",
   "execution_count": 101,
   "id": "4ec9ba47",
   "metadata": {},
   "outputs": [
    {
     "data": {
      "text/plain": [
       "54.84"
      ]
     },
     "execution_count": 101,
     "metadata": {},
     "output_type": "execute_result"
    }
   ],
   "source": [
    "AC_LAP7.GPS_Speed.median()"
   ]
  },
  {
   "cell_type": "code",
   "execution_count": 102,
   "id": "6088759a",
   "metadata": {},
   "outputs": [
    {
     "data": {
      "text/plain": [
       "53.037"
      ]
     },
     "execution_count": 102,
     "metadata": {},
     "output_type": "execute_result"
    }
   ],
   "source": [
    "AC_LAP8.GPS_Speed.median()"
   ]
  },
  {
   "cell_type": "code",
   "execution_count": 103,
   "id": "00284207",
   "metadata": {},
   "outputs": [
    {
     "data": {
      "text/plain": [
       "419.60200000000003"
      ]
     },
     "execution_count": 103,
     "metadata": {},
     "output_type": "execute_result"
    }
   ],
   "source": [
    "49.281+51.91+52.88+48.76+54.705+54.189+54.84+53.037"
   ]
  },
  {
   "cell_type": "code",
   "execution_count": 104,
   "id": "15f5de7b",
   "metadata": {},
   "outputs": [
    {
     "data": {
      "text/plain": [
       "52.450250000000004"
      ]
     },
     "execution_count": 104,
     "metadata": {},
     "output_type": "execute_result"
    }
   ],
   "source": [
    "419.60200000000003/8 #mucho mas representativo que la velocidad media"
   ]
  },
  {
   "cell_type": "markdown",
   "id": "3f3dc536",
   "metadata": {},
   "source": [
    "# MEDIANA PILOTO B"
   ]
  },
  {
   "cell_type": "code",
   "execution_count": 94,
   "id": "b3362114",
   "metadata": {},
   "outputs": [],
   "source": [
    "#Para una mayor representatividad de los datos hacemos la mediana"
   ]
  },
  {
   "cell_type": "code",
   "execution_count": 79,
   "id": "269ac14a",
   "metadata": {},
   "outputs": [
    {
     "data": {
      "text/plain": [
       "52.298"
      ]
     },
     "execution_count": 79,
     "metadata": {},
     "output_type": "execute_result"
    }
   ],
   "source": [
    "DC_LAP1.GPS_Speed.median()"
   ]
  },
  {
   "cell_type": "code",
   "execution_count": 80,
   "id": "6a95ab24",
   "metadata": {},
   "outputs": [
    {
     "data": {
      "text/plain": [
       "53.966"
      ]
     },
     "execution_count": 80,
     "metadata": {},
     "output_type": "execute_result"
    }
   ],
   "source": [
    "DC_LAP2.GPS_Speed.median()"
   ]
  },
  {
   "cell_type": "code",
   "execution_count": 81,
   "id": "c4950206",
   "metadata": {},
   "outputs": [
    {
     "data": {
      "text/plain": [
       "56.12"
      ]
     },
     "execution_count": 81,
     "metadata": {},
     "output_type": "execute_result"
    }
   ],
   "source": [
    "DC_LAP3.GPS_Speed.median()"
   ]
  },
  {
   "cell_type": "code",
   "execution_count": 82,
   "id": "2ed4c183",
   "metadata": {},
   "outputs": [
    {
     "data": {
      "text/plain": [
       "56.4435"
      ]
     },
     "execution_count": 82,
     "metadata": {},
     "output_type": "execute_result"
    }
   ],
   "source": [
    "DC_LAP4.GPS_Speed.median()"
   ]
  },
  {
   "cell_type": "code",
   "execution_count": 83,
   "id": "b5267cb6",
   "metadata": {},
   "outputs": [
    {
     "data": {
      "text/plain": [
       "57.084"
      ]
     },
     "execution_count": 83,
     "metadata": {},
     "output_type": "execute_result"
    }
   ],
   "source": [
    "DC_LAP5.GPS_Speed.median()"
   ]
  },
  {
   "cell_type": "code",
   "execution_count": 84,
   "id": "d8c7dd46",
   "metadata": {},
   "outputs": [
    {
     "data": {
      "text/plain": [
       "54.7735"
      ]
     },
     "execution_count": 84,
     "metadata": {},
     "output_type": "execute_result"
    }
   ],
   "source": [
    "DC_LAP6.GPS_Speed.median()"
   ]
  },
  {
   "cell_type": "code",
   "execution_count": 85,
   "id": "a16c80ce",
   "metadata": {},
   "outputs": [
    {
     "data": {
      "text/plain": [
       "51.802"
      ]
     },
     "execution_count": 85,
     "metadata": {},
     "output_type": "execute_result"
    }
   ],
   "source": [
    "DC_LAP7.GPS_Speed.median()"
   ]
  },
  {
   "cell_type": "code",
   "execution_count": 86,
   "id": "d74c8361",
   "metadata": {},
   "outputs": [
    {
     "data": {
      "text/plain": [
       "57.561"
      ]
     },
     "execution_count": 86,
     "metadata": {},
     "output_type": "execute_result"
    }
   ],
   "source": [
    "DC_LAP8.GPS_Speed.median() #tiene sentido, esta es la vuelta rápida"
   ]
  },
  {
   "cell_type": "code",
   "execution_count": 105,
   "id": "c65cdc0f",
   "metadata": {},
   "outputs": [
    {
     "data": {
      "text/plain": [
       "440.04800000000006"
      ]
     },
     "execution_count": 105,
     "metadata": {},
     "output_type": "execute_result"
    }
   ],
   "source": [
    "52.298+53.966+56.12+56.4435+57.084+54.7735+51.802+57.561"
   ]
  },
  {
   "cell_type": "code",
   "execution_count": 106,
   "id": "5a4bb104",
   "metadata": {},
   "outputs": [
    {
     "data": {
      "text/plain": [
       "55.00600000000001"
      ]
     },
     "execution_count": 106,
     "metadata": {},
     "output_type": "execute_result"
    }
   ],
   "source": [
    "440.04800000000006/8"
   ]
  },
  {
   "cell_type": "markdown",
   "id": "3209b7e5",
   "metadata": {},
   "source": [
    "# DIFERENCIA DE MEDIANAS ENTRE PILOTO A Y D"
   ]
  },
  {
   "cell_type": "code",
   "execution_count": 108,
   "id": "00c9aa2b",
   "metadata": {},
   "outputs": [
    {
     "data": {
      "text/plain": [
       "2.5557500000000033"
      ]
     },
     "execution_count": 108,
     "metadata": {},
     "output_type": "execute_result"
    }
   ],
   "source": [
    "55.00600000000001-52.450250000000004"
   ]
  },
  {
   "cell_type": "code",
   "execution_count": 109,
   "id": "d82aabec",
   "metadata": {},
   "outputs": [],
   "source": [
    "# conclusión tanto en media como mediana se sacan 2,2 (apox) km/h"
   ]
  },
  {
   "cell_type": "markdown",
   "id": "ced9eb2d",
   "metadata": {},
   "source": [
    "# DIFERENCIA VUELTA RÁPIDA PILOTOS"
   ]
  },
  {
   "cell_type": "code",
   "execution_count": 115,
   "id": "5bfbcd0f",
   "metadata": {},
   "outputs": [],
   "source": [
    "#VUELTA RÁPIDA A-LAP5 56.26068361581923\n",
    "#VUELTA RÁPIDA D-LAP8 58.75662779740874\n",
    "#DIFERENCIA ENTRE PILOTOS 2.4959441815895076 KM/H"
   ]
  },
  {
   "cell_type": "code",
   "execution_count": 116,
   "id": "cc97991c",
   "metadata": {},
   "outputs": [
    {
     "data": {
      "text/plain": [
       "2.4959441815895076"
      ]
     },
     "execution_count": 116,
     "metadata": {},
     "output_type": "execute_result"
    }
   ],
   "source": [
    "#media de vueltas rapidas\n",
    "58.75662779740874-56.26068361581923"
   ]
  },
  {
   "cell_type": "markdown",
   "id": "d3dd3d22",
   "metadata": {},
   "source": [
    "# ACCELERATION"
   ]
  },
  {
   "cell_type": "code",
   "execution_count": 118,
   "id": "3582ab6f",
   "metadata": {},
   "outputs": [],
   "source": [
    "#vamos a estudiar la vuelta rápida de cada piloto"
   ]
  },
  {
   "cell_type": "code",
   "execution_count": null,
   "id": "76a21f78",
   "metadata": {},
   "outputs": [],
   "source": [
    "# PERFORMANCE"
   ]
  },
  {
   "cell_type": "code",
   "execution_count": null,
   "id": "7b41bc29",
   "metadata": {},
   "outputs": [],
   "source": []
  },
  {
   "cell_type": "code",
   "execution_count": null,
   "id": "46653f58",
   "metadata": {},
   "outputs": [],
   "source": []
  },
  {
   "cell_type": "code",
   "execution_count": null,
   "id": "a164ccd5",
   "metadata": {},
   "outputs": [],
   "source": []
  },
  {
   "cell_type": "code",
   "execution_count": null,
   "id": "e58d7945",
   "metadata": {},
   "outputs": [],
   "source": []
  },
  {
   "cell_type": "code",
   "execution_count": null,
   "id": "20315eea",
   "metadata": {},
   "outputs": [],
   "source": []
  },
  {
   "cell_type": "code",
   "execution_count": null,
   "id": "1ebf7ea9",
   "metadata": {},
   "outputs": [],
   "source": []
  },
  {
   "cell_type": "code",
   "execution_count": null,
   "id": "3336281a",
   "metadata": {},
   "outputs": [],
   "source": []
  },
  {
   "cell_type": "code",
   "execution_count": null,
   "id": "c2308473",
   "metadata": {},
   "outputs": [],
   "source": []
  }
 ],
 "metadata": {
  "kernelspec": {
   "display_name": "Python 3 (ipykernel)",
   "language": "python",
   "name": "python3"
  },
  "language_info": {
   "codemirror_mode": {
    "name": "ipython",
    "version": 3
   },
   "file_extension": ".py",
   "mimetype": "text/x-python",
   "name": "python",
   "nbconvert_exporter": "python",
   "pygments_lexer": "ipython3",
   "version": "3.9.12"
  }
 },
 "nbformat": 4,
 "nbformat_minor": 5
}
